{
 "cells": [
  {
   "cell_type": "markdown",
   "id": "70eb460e",
   "metadata": {},
   "source": [
    "question 1"
   ]
  },
  {
   "cell_type": "code",
   "execution_count": 1,
   "id": "1a880139",
   "metadata": {},
   "outputs": [
    {
     "data": {
      "text/plain": [
       "6"
      ]
     },
     "execution_count": 1,
     "metadata": {},
     "output_type": "execute_result"
    }
   ],
   "source": [
    "a = 0\n",
    "\n",
    "def b():\n",
    "    global a\n",
    "    a = c(a)\n",
    "\n",
    "def c(a):\n",
    "    return a + 2\n",
    "\n",
    "b()\n",
    "b()\n",
    "b()\n",
    "a"
   ]
  },
  {
   "cell_type": "markdown",
   "id": "8c68bf42",
   "metadata": {},
   "source": [
    "step 1: we are calling b() function\n",
    "        a is declared a global\n",
    "        then we are calling c() function and passing a as a parameter\n",
    "        it returns 2 so it is stored in a\n",
    "        \n",
    "step 2: same as step 1 we are calling b() function and then c() function passing a\n",
    "        it returns 4 and it is stored in a (2+2)\n",
    "  \n",
    "step 3: same as step 1 and step 2 we are calling b() function and then c() function passing a\n",
    "        it returns 6 and it is stored in a (4+2)\n",
    "        \n",
    "        at the end the value of a is 6"
   ]
  },
  {
   "cell_type": "markdown",
   "id": "c36107dc",
   "metadata": {},
   "source": [
    "question 2"
   ]
  },
  {
   "cell_type": "code",
   "execution_count": 2,
   "id": "85c08660",
   "metadata": {},
   "outputs": [
    {
     "name": "stdout",
     "output_type": "stream",
     "text": [
      "28\n",
      "file nofile.txt not found\n"
     ]
    }
   ],
   "source": [
    "def filelength(file):\n",
    "    try:\n",
    "        with open(file,\"r\") as n:\n",
    "            print(len(n.readline()))\n",
    "    except FileNotFoundError:\n",
    "        print(\"file \"+file+\" not found\")\n",
    "\n",
    "filelength(\"FileLength.txt\")\n",
    "filelength(\"nofile.txt\")"
   ]
  },
  {
   "cell_type": "markdown",
   "id": "644078c4",
   "metadata": {},
   "source": [
    "question 3"
   ]
  },
  {
   "cell_type": "code",
   "execution_count": 3,
   "id": "2675d14f",
   "metadata": {},
   "outputs": [
    {
     "name": "stdout",
     "output_type": "stream",
     "text": [
      "['doll', 'firetruck', 'kitten']\n",
      "I am a kangaroo at coordinates (0,0)\n",
      "I am a kangaroo at coordinates (3,0)\n"
     ]
    }
   ],
   "source": [
    "class Marsupial:\n",
    "    def __init__(self):\n",
    "        self.bag = []\n",
    "        self.x = 0\n",
    "        self.y = 0\n",
    "    def put_in_pouch(self,item):\n",
    "        self.bag.append(item)\n",
    "    def pouch_contents(self):\n",
    "        return self.bag\n",
    "class Kangaroo(Marsupial):\n",
    "    def __init__(self,x,y):\n",
    "        Marsupial.__init__(self)\n",
    "        self.x = x\n",
    "        self.y = y\n",
    "    def jump(self,dx,dy):\n",
    "        self.x+=dx\n",
    "        self.y+=dy\n",
    "    def __str__(self):\n",
    "        return f'I am a kangaroo at coordinates ({self.x},{self.y})'\n",
    "        \n",
    "m = Marsupial()\n",
    "m.put_in_pouch('doll')\n",
    "m.put_in_pouch('firetruck')\n",
    "m.put_in_pouch('kitten')\n",
    "print(m.pouch_contents())\n",
    "\n",
    "k = Kangaroo(0,0)\n",
    "print(k)\n",
    "k.put_in_pouch('doll')\n",
    "k.put_in_pouch('firetruck')\n",
    "k.put_in_pouch('kitten')\n",
    "k.pouch_contents()\n",
    "k.jump(1,0)\n",
    "k.jump(1,0)\n",
    "k.jump(1,0)\n",
    "print(k)"
   ]
  },
  {
   "cell_type": "markdown",
   "id": "7b0ae937",
   "metadata": {},
   "source": [
    "question 4"
   ]
  },
  {
   "cell_type": "code",
   "execution_count": 4,
   "id": "fd21a3ff",
   "metadata": {},
   "outputs": [
    {
     "name": "stdout",
     "output_type": "stream",
     "text": [
      "10\n",
      "5.0\n",
      "16.0\n",
      "8.0\n",
      "4.0\n",
      "2.0\n",
      "1.0\n"
     ]
    }
   ],
   "source": [
    "def collatz(x):\n",
    "    if x==1:\n",
    "        print(x)\n",
    "       \n",
    "    elif x%2==0:\n",
    "        print (x)\n",
    "        \n",
    "        collatz(x/2)\n",
    "    else:\n",
    "        print (x)\n",
    "        \n",
    "        collatz(3*x+1)\n",
    "        \n",
    "collatz(10)"
   ]
  },
  {
   "cell_type": "markdown",
   "id": "949ba5c6",
   "metadata": {},
   "source": [
    "question 5"
   ]
  },
  {
   "cell_type": "code",
   "execution_count": 5,
   "id": "de5dbe94",
   "metadata": {},
   "outputs": [
    {
     "name": "stdout",
     "output_type": "stream",
     "text": [
      "1001"
     ]
    }
   ],
   "source": [
    "def binary(n):\n",
    "    if n>1:\n",
    "        binary(n//2)\n",
    "    print(n%2,end=\"\")\n",
    "binary(9)"
   ]
  },
  {
   "cell_type": "code",
   "execution_count": null,
   "id": "2a6317de",
   "metadata": {},
   "outputs": [],
   "source": [
    "question 6"
   ]
  },
  {
   "cell_type": "code",
   "execution_count": 6,
   "id": "ae620022",
   "metadata": {},
   "outputs": [
    {
     "name": "stdout",
     "output_type": "stream",
     "text": [
      "W3C Mission\n",
      "Principles\n"
     ]
    }
   ],
   "source": [
    "from html.parser import HTMLParser\n",
    "class HeadingParser(HTMLParser):\n",
    "    def __init__(self):\n",
    "        HTMLParser.__init__(self)\n",
    "        self.recording = 0\n",
    "        self.recording2 = 0\n",
    "        self.data = []\n",
    "    def handle_starttag(self, tag, attributes):\n",
    "        if(('h1' in tag ) or ('h2' in tag)):\n",
    "            pass\n",
    "        else:\n",
    "            return\n",
    "        if('h2' in tag):\n",
    "            if(self.recording2):\n",
    "                self.recording2 += 1\n",
    "            else:\n",
    "                self.recording2 = 1\n",
    "            return\n",
    "        if('h1' in tag):\n",
    "            if(self.recording):\n",
    "                self.recording += 1\n",
    "            else:\n",
    "                self.recording = 1\n",
    "            return\n",
    "    def handle_endtag(self, tag):\n",
    "        if tag == 'h1' and self.recording:\n",
    "            self.recording -= 1\n",
    "        if tag == 'h2' and self.recording2:\n",
    "            self.recording2 -= 1\n",
    "    \n",
    "    def handle_data(self, data):\n",
    "        if self.recording:\n",
    "            print(data)\n",
    "        if self.recording2:\n",
    "            print (\"\" + data)\n",
    "infile = open(\"w3c.html\")\n",
    "content = infile.read()\n",
    "infile.close()\n",
    "hp = HeadingParser()\n",
    "hp.feed(content)"
   ]
  },
  {
   "cell_type": "markdown",
   "id": "807f8bf8",
   "metadata": {},
   "source": [
    "question 8\n",
    "\n",
    "sql queries"
   ]
  },
  {
   "cell_type": "markdown",
   "id": "afa50e23",
   "metadata": {},
   "source": [
    "a) All the temperature data.\n",
    "\n",
    "SELECT temperature FROM weather;"
   ]
  },
  {
   "cell_type": "markdown",
   "id": "1f96c494",
   "metadata": {},
   "source": [
    "b) All the cities, but without repetition.\n",
    "\n",
    "SELECT DISTINCT city FROM weather;"
   ]
  },
  {
   "cell_type": "markdown",
   "id": "871ec5a2",
   "metadata": {},
   "source": [
    "c) All the records for India.\n",
    "\n",
    "SELECT * FROM weather\n",
    "WHERE country = \"india\";"
   ]
  },
  {
   "cell_type": "markdown",
   "id": "87901e50",
   "metadata": {},
   "source": [
    "d) All the Fall records.\n",
    "\n",
    "SELECT * FROM weather\n",
    "WHERE season = \"fall\";"
   ]
  },
  {
   "cell_type": "markdown",
   "id": "465de873",
   "metadata": {},
   "source": [
    "e) The city, country, and season for which the average rainfall is between 200\n",
    "and 400 millimeters.\n",
    "\n",
    "\n",
    "SELECT city, country, season FROM weather\n",
    "WHERE rainfall > 200 AND rainfall < 400;"
   ]
  },
  {
   "cell_type": "markdown",
   "id": "d124d56f",
   "metadata": {},
   "source": [
    "f) The city and country for which the average Fall temperature is above 20\n",
    "degrees, in increasing temperature order.\n",
    "\n",
    "SELECT city, country, rainfall FROM weather\n",
    "WHERE season = \"fall\" AND temperature > 20\n",
    "ORDER BY temperature ASC;"
   ]
  },
  {
   "cell_type": "markdown",
   "id": "87b8471f",
   "metadata": {},
   "source": [
    "g) The total annual rainfall for Cairo.\n",
    "\n",
    "SELECT city, SUM(rainfall) FROM weather\n",
    "WHERE city = \"cairo\";"
   ]
  },
  {
   "cell_type": "markdown",
   "id": "c712fa8f",
   "metadata": {},
   "source": [
    "h) The total rainfall for each season.\n",
    "\n",
    "SELECT season, SUM(rainfall) FROM weather\n",
    "GROUP BY season;"
   ]
  },
  {
   "cell_type": "markdown",
   "id": "f42c0eee",
   "metadata": {},
   "source": [
    "question 9"
   ]
  },
  {
   "cell_type": "code",
   "execution_count": 7,
   "id": "1bb4f4da",
   "metadata": {},
   "outputs": [],
   "source": [
    "words = ['The','quick','brown','fox','jumps','over','the','lazy', 'dog']\n",
    "a = []\n",
    "b = []\n",
    "c = []\n",
    "d = []\n",
    "e = []\n",
    "for i in words:\n",
    "    a.append(i.upper())\n",
    "    b.append(i.lower())\n",
    "    c.append(len(i))\n",
    "for i in range(len(a)):\n",
    "    tmp = []\n",
    "    tmp.append(a[i])\n",
    "    tmp.append(b[i])\n",
    "    tmp.append(c[i])\n",
    "    d.append(tmp)\n",
    "    del tmp\n",
    "\n",
    "for i in words:\n",
    "    if len(i) > 4:\n",
    "        e.append(i)"
   ]
  },
  {
   "cell_type": "code",
   "execution_count": 8,
   "id": "1819a39e",
   "metadata": {},
   "outputs": [
    {
     "data": {
      "text/plain": [
       "['THE', 'QUICK', 'BROWN', 'FOX', 'JUMPS', 'OVER', 'THE', 'LAZY', 'DOG']"
      ]
     },
     "execution_count": 8,
     "metadata": {},
     "output_type": "execute_result"
    }
   ],
   "source": [
    "a"
   ]
  },
  {
   "cell_type": "code",
   "execution_count": 9,
   "id": "6efccaa5",
   "metadata": {},
   "outputs": [
    {
     "data": {
      "text/plain": [
       "['the', 'quick', 'brown', 'fox', 'jumps', 'over', 'the', 'lazy', 'dog']"
      ]
     },
     "execution_count": 9,
     "metadata": {},
     "output_type": "execute_result"
    }
   ],
   "source": [
    "b"
   ]
  },
  {
   "cell_type": "code",
   "execution_count": 10,
   "id": "253fac59",
   "metadata": {},
   "outputs": [
    {
     "data": {
      "text/plain": [
       "[3, 5, 5, 3, 5, 4, 3, 4, 3]"
      ]
     },
     "execution_count": 10,
     "metadata": {},
     "output_type": "execute_result"
    }
   ],
   "source": [
    "c"
   ]
  },
  {
   "cell_type": "code",
   "execution_count": 11,
   "id": "f03df5bf",
   "metadata": {},
   "outputs": [
    {
     "data": {
      "text/plain": [
       "[['THE', 'the', 3],\n",
       " ['QUICK', 'quick', 5],\n",
       " ['BROWN', 'brown', 5],\n",
       " ['FOX', 'fox', 3],\n",
       " ['JUMPS', 'jumps', 5],\n",
       " ['OVER', 'over', 4],\n",
       " ['THE', 'the', 3],\n",
       " ['LAZY', 'lazy', 4],\n",
       " ['DOG', 'dog', 3]]"
      ]
     },
     "execution_count": 11,
     "metadata": {},
     "output_type": "execute_result"
    }
   ],
   "source": [
    "d"
   ]
  },
  {
   "cell_type": "code",
   "execution_count": 12,
   "id": "eb61b149",
   "metadata": {},
   "outputs": [
    {
     "data": {
      "text/plain": [
       "['quick', 'brown', 'jumps']"
      ]
     },
     "execution_count": 12,
     "metadata": {},
     "output_type": "execute_result"
    }
   ],
   "source": [
    "e"
   ]
  },
  {
   "cell_type": "code",
   "execution_count": null,
   "id": "d9984897",
   "metadata": {},
   "outputs": [],
   "source": []
  }
 ],
 "metadata": {
  "kernelspec": {
   "display_name": "Python 3 (ipykernel)",
   "language": "python",
   "name": "python3"
  },
  "language_info": {
   "codemirror_mode": {
    "name": "ipython",
    "version": 3
   },
   "file_extension": ".py",
   "mimetype": "text/x-python",
   "name": "python",
   "nbconvert_exporter": "python",
   "pygments_lexer": "ipython3",
   "version": "3.9.12"
  }
 },
 "nbformat": 4,
 "nbformat_minor": 5
}
