{
 "cells": [
  {
   "cell_type": "markdown",
   "id": "031e1da3",
   "metadata": {},
   "source": [
    "#question 1\n",
    "What data type is each of the following?\n"
   ]
  },
  {
   "cell_type": "code",
   "execution_count": null,
   "id": "9fb8e450",
   "metadata": {},
   "outputs": [],
   "source": [
    " 5 --> the data type is integer\n",
    "5.0 --> the data type is float\n",
    "5 > 1--> the data type is boolean\n",
    "'5'--> the data type is string\n",
    "5 * 2 --> the data type is int\n",
    "'5' * 2--> error will occur as one is string and other is integer\n",
    "'5' + '2'--> the data type is string\n",
    "5 / 2--> the data type is float\n",
    "5 % 2 --> the data type is int\n",
    "{5, 2, 1}--> the  is a list\n",
    "5 == 3 --> the data type is boolean"
   ]
  },
  {
   "cell_type": "markdown",
   "id": "eaa499df",
   "metadata": {},
   "source": [
    "#question 2\n",
    "\n",
    "Write (and evaluate) C# expressions that answer these questions:\n",
    "a. How many letters are there in 'Supercalifragilisticexpialidocious'?\n",
    "\n",
    "b. Does 'Supercalifragilisticexpialidocious' contain 'ice' as a substring?\n",
    "\n",
    "c. Which of the following words is the longest:\n",
    "Supercalifragilisticexpialidocious, Honorificabilitudinitatibus, or\n",
    "Bababadalgharaghtakamminarronnkonn?\n",
    "\n",
    "d. Which composer comes first in the dictionary: 'Berlioz', 'Borodin', 'Brian',\n",
    "'Bartok', 'Bellini', 'Buxtehude', 'Bernstein'. Which one comes last?"
   ]
  },
  {
   "cell_type": "code",
   "execution_count": null,
   "id": "f0eb2134",
   "metadata": {},
   "outputs": [],
   "source": [
    "using System;\n",
    "using System.Collections.Generic;\n",
    "using System.Collections.Immutable;\n",
    "\n",
    "string word = \"Supercalifragilisticexpialidocious\";\n",
    "Console.WriteLine($\"the total number of letters in {word} is \");\n",
    "Console.Write(word.Length);"
   ]
  },
  {
   "cell_type": "code",
   "execution_count": null,
   "id": "e7ee5bef",
   "metadata": {},
   "outputs": [],
   "source": [
    "using System;\n",
    "using System.Collections.Generic;\n",
    "using System.Collections.Immutable;\n",
    "\n",
    "string word = \"Supercalifragilisticexpialidocious\";\n",
    "string substring = \"ice\";\n",
    "if (word.Contains(substring))\n",
    "{ Console.WriteLine($\"the given string  { word}   contains the substring  { substring}  in it.  \");\n",
    "}\n",
    "else\n",
    "{\n",
    "    Console.WriteLine(\"it does not contain\");\n",
    "}"
   ]
  },
  {
   "cell_type": "code",
   "execution_count": null,
   "id": "2d1cb1bb",
   "metadata": {},
   "outputs": [],
   "source": [
    "using System;\n",
    "using System.Collections.Generic;\n",
    "using System.Collections.Immutable;\n",
    "\n",
    "string word_1 = \"Supercalifragilisticexpialidocious\";\n",
    "string word_2 = \"Honorificabilitudinitatibus\";\n",
    "string word_3 = \"Bababadalgharaghtakamminarronnkonn\";\n",
    "if (word_1.Length > word_2.Length && word_1.Length > word_3.Length )\n",
    "{ Console.WriteLine($\"the string  {word_1}  is the longest \"); }\n",
    "else if (word_2.Length > word_1.Length && word_2.Length > word_3.Length)\n",
    "{\n",
    "    Console.WriteLine($\"the string  {word_2}  is the longest \");\n",
    "}\n",
    "else { Console.WriteLine($\"the string  {word_3}  is the longest \"); }\n"
   ]
  },
  {
   "cell_type": "code",
   "execution_count": null,
   "id": "73342bd3",
   "metadata": {},
   "outputs": [],
   "source": [
    "using System;\n",
    "using System.Collections.Generic;\n",
    "using System.Collections.Immutable;\n",
    "\n",
    "string[] dictionary = { \"Berlioz\", \"Borodin\", \"Brian\",\"Bartok\", \"Bellini\", \"Buxtehude\", \"Bernstein\" };\n",
    "Array.Sort(dictionary);\n",
    "Console.WriteLine($\"the first composer in the dictionary is {dictionary[0]} \");\n",
    "Console.WriteLine($\"the last composer in the dictionary is {dictionary[dictionary.Length -1]} \");"
   ]
  },
  {
   "cell_type": "markdown",
   "id": "37852e66",
   "metadata": {},
   "source": [
    "#question 3\n",
    "\n",
    "Implement function triangleArea(a,b,c) that takes as input the lengths of the 3\n",
    "sides of a triangle and returns the area of the triangle. By Heron's formula, the area\n",
    "of a triangle with side lengths a, b, and c is s(s − a)(s −b)(s −c), where\n",
    "s = (a + b + c)/2."
   ]
  },
  {
   "cell_type": "code",
   "execution_count": null,
   "id": "f66fec62",
   "metadata": {},
   "outputs": [],
   "source": [
    "using System;\n",
    "using System.Collections.Generic;\n",
    "using System.Collections.Immutable;\n",
    "\n",
    "static double triangleArea(int a,int b,int  c)\n",
    "    {\n",
    "        float s = 0;\n",
    "        s = (a + b + c) / 2;\n",
    "        double area = Math.Sqrt(s * (s - a) * (s - b) * (s - c));\n",
    "        return area;   \n",
    "    }\n",
    "    static void Main(string[] args)\n",
    "    {\n",
    "\n",
    "        Console.Write(\"the area of the triangle is \");\n",
    "        Console.WriteLine(triangleArea(2, 2, 2));\n",
    "    }\n",
    "\n",
    "\n"
   ]
  },
  {
   "cell_type": "markdown",
   "id": "689c01e3",
   "metadata": {},
   "source": [
    "#question 4\n",
    "Write a program in C# Sharp to separate odd and even integers in separate arrays"
   ]
  },
  {
   "cell_type": "code",
   "execution_count": null,
   "id": "b8dfb65c",
   "metadata": {},
   "outputs": [],
   "source": [
    "using System;\n",
    "using System.Collections.Generic;\n",
    "using System.Collections.Immutable;\n",
    "\n",
    "    {\n",
    "        Console.Write(\"enter the number of elements in the array\");\n",
    "        int count = Convert.ToInt32(Console.ReadLine());\n",
    "        int[] array = new int[count];\n",
    "        int[] even_array = new int[count];\n",
    "        int[] odd_array = new int[count];\n",
    "        for (int i= 0;i < count; i++)\n",
    "        {\n",
    "            Console.WriteLine(\"enter the element : \");\n",
    "            array[i] = Convert.ToInt32(Console.ReadLine());\n",
    "        }\n",
    "        Console.WriteLine(\"the entered elements are : \");\n",
    "        for (int i = 0; i < count; i++)\n",
    "        {\n",
    "\n",
    "            Console.WriteLine(array[i]);\n",
    "        }int j = 0; int k = 0;\n",
    "        for (int i=0; i< array.Length;i++)\n",
    "        {\n",
    "            if (array[i] % 2 == 0)\n",
    "            {\n",
    "\n",
    "                even_array[j] = array[i];\n",
    "                j++;\n",
    "\n",
    "            }\n",
    "            else\n",
    "            {\n",
    "\n",
    "                odd_array[k] = array[i];\n",
    "                k++;\n",
    "            }\n",
    "        }\n",
    "        Console.WriteLine($\"the array which contains even elements is \");\n",
    "        for(int i = 0; i < j; i++)\n",
    "        {\n",
    "            Console.WriteLine(even_array[i]);\n",
    "        }\n",
    "\n",
    "        Console.WriteLine($\"the array which contains odd elements is \");\n",
    "        for(int i = 0; i < k; i++)\n",
    "        {\n",
    "            Console.WriteLine(odd_array[i]);\n",
    "        }\n",
    "\n",
    "        Console.ReadLine();\n",
    "}\n"
   ]
  },
  {
   "cell_type": "markdown",
   "id": "2323b9d1",
   "metadata": {},
   "source": [
    "#question 5\n",
    "\n",
    "a. Write a function inside(x,y,x1,y1,x2,y2) that returns True or False\n",
    "dependingonwhetherthepoint(x,y)liesintherectanglewithlowerleft\n",
    "corner (x1,y1) and upper right corner (x2,y2).\n",
    "\n",
    "b. Use function inside()from part a. to write an expression that tests whether\n",
    "the point (1,1) lies in both of the following rectangles: one with lower left\n",
    "corner (0.3, 0.5) and upper right corner (1.1, 0.7) and the other with lower\n",
    "left corner (0.5, 0.2) and upper right corner (1.1, 2)."
   ]
  },
  {
   "cell_type": "code",
   "execution_count": null,
   "id": "b0bc382e",
   "metadata": {},
   "outputs": [],
   "source": [
    "using System;\n",
    "using System.Collections.Generic;\n",
    "using System.Collections.Immutable;\n",
    "\n",
    "static bool inside(int x, int y, int x1, int y1, int x2, int y2)\n",
    "    {\n",
    "        if ((x > x1 && x < x2 && y > y1 && y < y2)) \n",
    "        {\n",
    "            return true;\n",
    "        }\n",
    "        else\n",
    "        {\n",
    "            return false;\n",
    "        }\n",
    "    }\n",
    "    static void Main()\n",
    "    {\n",
    "\n",
    "        Console.WriteLine(inside(1, 1, 0, 0, 2, 3));\n",
    "        Console.WriteLine(inside(-1,-1, 0, 0, 2, 3));\n",
    "\n",
    "\n",
    "    }\n",
    "\n"
   ]
  },
  {
   "cell_type": "code",
   "execution_count": null,
   "id": "44d9c50b",
   "metadata": {},
   "outputs": [],
   "source": [
    "using System;\n",
    "using System.Collections.Generic;\n",
    "using System.Collections.Immutable;\n",
    "\n",
    "\n",
    "int a=0;\n",
    "int b = 0;\n",
    "\n",
    "static bool Inside(double x, double y, double x1, double y1, double x2, double y2)\n",
    "{\n",
    "    if ((x > x1 && x < x2 && y > y1 && y < y2))\n",
    "    {\n",
    "            \n",
    "        return true;\n",
    "\n",
    "    }\n",
    "    else\n",
    "\n",
    "    {          \n",
    "        return false;\n",
    "    }\n",
    "}\n",
    "static void Main()\n",
    "{\n",
    "         \n",
    "        \n",
    "        \n",
    "\n",
    "        if(Inside(1, 1, 0.3, 0.5, 1.1, 0.7) == Inside(1,1,0.5,0.2,1.1,2))\n",
    "        {\n",
    "            Console.WriteLine(\"true\");\n",
    "        }\n",
    "        else\n",
    "        {\n",
    "            Console.WriteLine(\"false\");\n",
    "        }\n",
    "\n",
    "}"
   ]
  },
  {
   "cell_type": "markdown",
   "id": "7a77c5a0",
   "metadata": {},
   "source": [
    "#question 6\n",
    "\n",
    "You can turn a word into pig-Latin using the following two rules(simplified):\n",
    "• If the word starts with a consonant, move that letter to the end and append\n",
    "'ay'. For example, 'happy' becomes 'appyhay' and 'pencil' becomes 'encilpay'.\n",
    "• If the word starts with a vowel, simply append 'way' to the end of the word.\n",
    "For example, 'enter' becomes 'enterway' and 'other' becomes 'otherway' . For\n",
    "our purposes, there are 5 vowels: a, e, i, o, u (so we count y as a consonant).\n",
    "Write a function pig() that takes a word (i.e., a string) as input and returns its pigLatin form. Your function should still work if the input word contains upper case\n",
    "characters. Your output should always be lower case however."
   ]
  },
  {
   "cell_type": "code",
   "execution_count": 14,
   "id": "90c2ad88",
   "metadata": {},
   "outputs": [
    {
     "name": "stdout",
     "output_type": "stream",
     "text": [
      "enterway\n",
      "appyhay\n"
     ]
    }
   ],
   "source": [
    "def pig(word):\n",
    "    word = word.lower()\n",
    "    vowels = ('a','e','i','o','u')\n",
    "    if word.startswith(vowels):\n",
    "        return word + \"way\"\n",
    "    else:\n",
    "        return word[1:] + word[0] + \"ay\"\n",
    "    \n",
    "print(pig(\"Enter\"))\n",
    "print(pig(\"happy\"))"
   ]
  },
  {
   "cell_type": "markdown",
   "id": "363e3fa4",
   "metadata": {},
   "source": [
    "#question 7\n",
    "\n",
    "File bloodtype1.txt records blood-types of patients (A, B, AB, O or OO) at a clinic.\n",
    "Write a function bldcount() that reads the file with name name and reports (i.e.,\n",
    "prints) how many patients there are in each bloodtype."
   ]
  },
  {
   "cell_type": "code",
   "execution_count": 4,
   "id": "4a41b288",
   "metadata": {},
   "outputs": [
    {
     "name": "stdout",
     "output_type": "stream",
     "text": [
      "There are 15 patients of blood type A.\n",
      "There is one patient of blood type B.\n",
      "There are 13 patients of blood type AB.\n",
      "There are 15 patients of blood type O.\n",
      "There are no patients of blood type OO.\n"
     ]
    }
   ],
   "source": [
    "def bldcount(file):\n",
    "    f = open(file,'r')\n",
    "    group_dict = {'A':0,'B':0,'AB':0,'O':0,'OO':0}\n",
    "    for group in f.readline().split():\n",
    "        group_dict[group]+=1\n",
    "    f.close()\n",
    "    for keys in group_dict.keys():\n",
    "        if group_dict[keys] == 0:\n",
    "            print(f\"There are no patients of blood type {keys}.\")\n",
    "        if group_dict[keys] == 1:\n",
    "            print(f\"There is one patient of blood type {keys}.\")\n",
    "        if group_dict[keys] >1 :\n",
    "            print(f\"There are {group_dict[keys]} patients of blood type {keys}.\")\n",
    "        \n",
    "bldcount('bloodtype1.txt')\n"
   ]
  },
  {
   "cell_type": "markdown",
   "id": "1097840e",
   "metadata": {},
   "source": [
    "#question 8\n",
    "Write a function curconv() that takes as input:\n",
    "1. a currency represented using a string (e.g., 'JPY' for the Japanese Yen or\n",
    "'EUR' for the Euro)\n",
    "2. an amount\n",
    "and then converts and returns the amount in US dollars."
   ]
  },
  {
   "cell_type": "code",
   "execution_count": 15,
   "id": "3d91e27b",
   "metadata": {},
   "outputs": [
    {
     "name": "stdout",
     "output_type": "stream",
     "text": [
      "1.241401\n",
      "122.96544\n"
     ]
    }
   ],
   "source": [
    "def curconv(country,amount):\n",
    "    with open('currencies.txt') as f:\n",
    "        for line in f.readlines():\n",
    "            if line.split()[0] == country:\n",
    "                return float(line.split()[1]) * amount\n",
    "\n",
    "print(curconv(\"JPY\",100))\n",
    "print(curconv(\"EUR\",100))"
   ]
  },
  {
   "cell_type": "markdown",
   "id": "84d6c02a",
   "metadata": {},
   "source": [
    "#question 9\n",
    "Each of the following will cause an exception (an error). Identify what type of\n",
    "exception each will cause."
   ]
  },
  {
   "cell_type": "code",
   "execution_count": 21,
   "id": "a108cbb2",
   "metadata": {},
   "outputs": [
    {
     "name": "stdout",
     "output_type": "stream",
     "text": [
      "unsupported operand type(s) for +: 'int' and 'str'\n",
      "list index out of range\n",
      "math domain error\n",
      "name 'X' is not defined\n",
      "[Errno 2] No such file or directory: 'test.txt'\n"
     ]
    }
   ],
   "source": [
    "try:\n",
    "    a=1+\"gaurav\"\n",
    "except TypeError as e:\n",
    "    print(e)\n",
    "\n",
    "try:\n",
    "    l=[1,2]\n",
    "    print(l[2])\n",
    "except IndexError as e:\n",
    "    print(e)    \n",
    "try:\n",
    "    import math\n",
    "    math.sqrt(-1.0)\n",
    "except ValueError as e:\n",
    "    print(e)\n",
    "try:\n",
    "    print(X)\n",
    "except NameError as e:\n",
    "    print(e)\n",
    "try:\n",
    "    f= open(\"test.txt\")\n",
    "except FileNotFoundError as e:\n",
    "    print(e)    "
   ]
  },
  {
   "cell_type": "markdown",
   "id": "74e115b8",
   "metadata": {},
   "source": [
    "#question 10\n",
    "Encryption is the process of hiding the meaning of a text by substituting letters in the\n",
    "message with other letters, according to some system. If the process is successful, no\n",
    "one but the intended recipient can understand the encrypted message. Cryptanalysis\n",
    "refers to attempts to undo the encryption, even if some details of the encryption are\n",
    "unknown (for example, if an encrypted message has been intercepted). The first step\n",
    "of cryptanalysis is often to build up a table of letter frequencies in the encrypted text.\n",
    "Assume that the string letters is already defined as\n",
    "'abcdefghijklmnopqrstuvwxyz'. Write a function called frequencies()\n",
    "that takes a string as its only parameter, and returns a list of integers, showing the\n",
    "number of times each character appears in the text. Your function may ignore any\n",
    "characters that are not in letters"
   ]
  },
  {
   "cell_type": "code",
   "execution_count": 25,
   "id": "5c08a9f7",
   "metadata": {},
   "outputs": [
    {
     "name": "stdout",
     "output_type": "stream",
     "text": [
      "[1, 1, 1, 3, 5, 1, 1, 2, 1, 0, 1, 0, 1, 2, 4, 0, 1, 2, 0, 3, 1, 0, 1, 1, 0, 0]\n",
      "[1, 0, 0, 0, 1, 0, 0, 0, 0, 0, 0, 1, 0, 0, 0, 2, 0, 0, 0, 0, 0, 0, 0, 0, 0, 0]\n"
     ]
    }
   ],
   "source": [
    "def frequencies(string):\n",
    "    letters = 'abcdefghijklmnopqrstuvwxyz'\n",
    "    letter_count = {'a': 0,'b': 0,'c': 0,'d': 0,'e': 0,'f': 0,'g': 0,'h': 0,'i': 0,'j': 0,'k': 0,'l': 0,'m': 0,'n': 0,'o': 0,'p': 0,'q': 0,'r': 0,'s': 0,'t': 0,'u': 0,'v': 0,'w':0,'x':0,'y': 0,'z': 0}\n",
    "    for char in string.lower():\n",
    "        if char in letters:\n",
    "            letter_count[char]+=1\n",
    "    return list(letter_count.values())\n",
    "\n",
    "print(frequencies(\"The quick red fox got bored and went home.\"))\n",
    "print(frequencies(\"apple\"))\n",
    "\n"
   ]
  },
  {
   "cell_type": "code",
   "execution_count": null,
   "id": "cbd85fb9",
   "metadata": {},
   "outputs": [],
   "source": []
  }
 ],
 "metadata": {
  "kernelspec": {
   "display_name": "Python 3 (ipykernel)",
   "language": "python",
   "name": "python3"
  },
  "language_info": {
   "codemirror_mode": {
    "name": "ipython",
    "version": 3
   },
   "file_extension": ".py",
   "mimetype": "text/x-python",
   "name": "python",
   "nbconvert_exporter": "python",
   "pygments_lexer": "ipython3",
   "version": "3.9.12"
  }
 },
 "nbformat": 4,
 "nbformat_minor": 5
}
